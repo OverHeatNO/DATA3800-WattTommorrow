{
 "cells": [
  {
   "cell_type": "code",
   "execution_count": 9,
   "id": "5357b024",
   "metadata": {},
   "outputs": [],
   "source": [
    "# imports \n",
    "import pandas as pd\n",
    "import seaborn as sns"
   ]
  },
  {
   "cell_type": "code",
   "execution_count": 10,
   "id": "efbad21a",
   "metadata": {},
   "outputs": [],
   "source": [
    "# load the dataset\n",
    "df_energy = pd.read_csv(\"..\\data\\energy_dataset.csv\")\n",
    "df_weather = pd.read_csv(\"..\\data\\weather_features.csv\")\n",
    "df_weather = df_weather[df_weather[\"city_name\"] == \"Valencia\"]\n",
    "df_weather.drop(columns=[\"city_name\"], inplace=True)"
   ]
  },
  {
   "cell_type": "code",
   "execution_count": null,
   "id": "1e51e7de",
   "metadata": {},
   "outputs": [],
   "source": []
  }
 ],
 "metadata": {
  "kernelspec": {
   "display_name": "base",
   "language": "python",
   "name": "python3"
  },
  "language_info": {
   "codemirror_mode": {
    "name": "ipython",
    "version": 3
   },
   "file_extension": ".py",
   "mimetype": "text/x-python",
   "name": "python",
   "nbconvert_exporter": "python",
   "pygments_lexer": "ipython3",
   "version": "3.11.4"
  }
 },
 "nbformat": 4,
 "nbformat_minor": 5
}
